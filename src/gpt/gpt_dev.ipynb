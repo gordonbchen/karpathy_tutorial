{
 "cells": [
  {
   "cell_type": "markdown",
   "metadata": {},
   "source": [
    "[Lecture 7: Let's build GPT: from scratch, in code, spelled out.](https://www.youtube.com/watch?v=kCc8FmEb1nY&ab_channel=AndrejKarpathy)"
   ]
  },
  {
   "cell_type": "code",
   "execution_count": 1,
   "metadata": {},
   "outputs": [
    {
     "name": "stdout",
     "output_type": "stream",
     "text": [
      "1115394\n",
      "First Citizen:\n",
      "Before we proceed any further, hear me speak.\n",
      "\n",
      "All:\n",
      "Speak, speak.\n",
      "\n",
      "First Citizen:\n",
      "You are all resolved rather to die than to famish?\n",
      "\n",
      "All:\n",
      "Resolved. resolved.\n",
      "\n",
      "First Citizen:\n",
      "First, you know Caius Marcius is chief enemy to the people.\n",
      "\n",
      "All:\n",
      "We know't, we know't.\n",
      "\n",
      "First Citizen:\n",
      "Let us\n"
     ]
    }
   ],
   "source": [
    "import requests\n",
    "from pathlib import Path\n",
    "\n",
    "data_path = Path(\"../../data/shakespeare.txt\")\n",
    "if not data_path.exists():\n",
    "    text = requests.get(\"https://raw.githubusercontent.com/karpathy/char-rnn/master/data/tinyshakespeare/input.txt\").text\n",
    "    with open(data_path, mode=\"w\") as f:\n",
    "        f.write(text)\n",
    "else:\n",
    "    with open(data_path, mode=\"r\") as f:\n",
    "        text = f.read()\n",
    "\n",
    "print(len(text))\n",
    "print(text[:300])"
   ]
  },
  {
   "cell_type": "code",
   "execution_count": 2,
   "metadata": {},
   "outputs": [
    {
     "name": "stdout",
     "output_type": "stream",
     "text": [
      "\n",
      " !$&',-.3:;?ABCDEFGHIJKLMNOPQRSTUVWXYZabcdefghijklmnopqrstuvwxyz\n",
      "65\n",
      "[20, 43, 50, 50, 53, 1, 61, 53, 56, 50, 42, 2]\n",
      "Hello world!\n"
     ]
    }
   ],
   "source": [
    "chars = sorted(list(set(text)))\n",
    "print(\"\".join(chars))\n",
    "\n",
    "VOCAB_SIZE = len(chars)\n",
    "print(VOCAB_SIZE)\n",
    "\n",
    "ctoi = {c:i for (i,c) in enumerate(chars)}\n",
    "itoc = {i:c for (i,c) in enumerate(chars)}\n",
    "\n",
    "def encode(string):\n",
    "    return [ctoi[c] for c in string]\n",
    "\n",
    "def decode(inds):\n",
    "    return \"\".join([itoc[i] for i in inds])\n",
    "\n",
    "print(encode(\"Hello world!\"))\n",
    "print(decode(encode(\"Hello world!\")))"
   ]
  },
  {
   "cell_type": "code",
   "execution_count": 3,
   "metadata": {},
   "outputs": [
    {
     "name": "stdout",
     "output_type": "stream",
     "text": [
      "torch.Size([1115394]) torch.int64\n",
      "tensor([18, 47, 56, 57, 58,  1, 15, 47, 58, 47, 64, 43, 52, 10,  0, 14, 43, 44,\n",
      "        53, 56, 43,  1, 61, 43,  1, 54, 56, 53, 41, 43, 43, 42,  1, 39, 52, 63,\n",
      "         1, 44, 59, 56, 58, 46, 43, 56,  6,  1, 46, 43, 39, 56,  1, 51, 43,  1,\n",
      "        57, 54, 43, 39, 49,  8,  0,  0, 13, 50, 50, 10,  0, 31, 54, 43, 39, 49,\n",
      "         6,  1, 57, 54, 43, 39, 49,  8,  0,  0, 18, 47, 56, 57, 58,  1, 15, 47,\n",
      "        58, 47, 64, 43, 52, 10,  0, 37, 53, 59])\n",
      "torch.Size([1003854]) torch.Size([111540])\n"
     ]
    }
   ],
   "source": [
    "import torch\n",
    "\n",
    "data = torch.tensor(encode(text), dtype=torch.long)\n",
    "print(data.shape, data.dtype)\n",
    "print(data[:100])\n",
    "\n",
    "n_train = int(0.9 * len(data))\n",
    "train_data = data[:n_train]\n",
    "val_data = data[n_train:]\n",
    "\n",
    "print(train_data.shape, val_data.shape)"
   ]
  },
  {
   "cell_type": "code",
   "execution_count": 4,
   "metadata": {},
   "outputs": [
    {
     "name": "stdout",
     "output_type": "stream",
     "text": [
      "torch.Size([4, 8]) torch.Size([4, 8])\n",
      "tensor([[24, 43, 58,  5, 57,  1, 46, 43],\n",
      "        [44, 53, 56,  1, 58, 46, 39, 58],\n",
      "        [52, 58,  1, 58, 46, 39, 58,  1],\n",
      "        [25, 17, 27, 10,  0, 21,  1, 54]])\n",
      "tensor([[43, 58,  5, 57,  1, 46, 43, 39],\n",
      "        [53, 56,  1, 58, 46, 39, 58,  1],\n",
      "        [58,  1, 58, 46, 39, 58,  1, 46],\n",
      "        [17, 27, 10,  0, 21,  1, 54, 39]])\n",
      "tensor([24]) -> 43\n",
      "tensor([24, 43]) -> 58\n",
      "tensor([24, 43, 58]) -> 5\n",
      "tensor([24, 43, 58,  5]) -> 57\n",
      "tensor([24, 43, 58,  5, 57]) -> 1\n",
      "tensor([24, 43, 58,  5, 57,  1]) -> 46\n",
      "tensor([24, 43, 58,  5, 57,  1, 46]) -> 43\n",
      "tensor([24, 43, 58,  5, 57,  1, 46, 43]) -> 39\n"
     ]
    }
   ],
   "source": [
    "torch.manual_seed(1337)\n",
    "\n",
    "BLOCK_SIZE = 8\n",
    "BATCH_SIZE = 4\n",
    "\n",
    "def get_batch(data: torch.Tensor) -> tuple[torch.Tensor, torch.Tensor]:\n",
    "    idxs = torch.randint(0, len(data) - BLOCK_SIZE, (BATCH_SIZE,))\n",
    "    xb = torch.stack([data[i:i+BLOCK_SIZE] for i in idxs])\n",
    "    yb = torch.stack([data[i+1:i+BLOCK_SIZE+1] for i in idxs])\n",
    "    return xb, yb\n",
    "\n",
    "xb, yb = get_batch(train_data)\n",
    "print(xb.shape, yb.shape)\n",
    "print(xb)\n",
    "print(yb)\n",
    "\n",
    "for t in range(BLOCK_SIZE):\n",
    "    print(f\"{xb[0, :t+1]} -> {yb[0,t]}\")"
   ]
  },
  {
   "cell_type": "code",
   "execution_count": 5,
   "metadata": {},
   "outputs": [
    {
     "name": "stdout",
     "output_type": "stream",
     "text": [
      "torch.Size([4, 8, 65]) tensor(5.0364, grad_fn=<NllLossBackward0>)\n",
      "4.174387269895637\n",
      "[\"\\nl-QYjt'CL?\", '\\nlcmEzyyf,O']\n",
      "2.593620538711548\n",
      "\n",
      "'-d hecuiNTha se J.eie bunthe ak.\n",
      "LAt 'sca m; oivI rEG?\n",
      "My ak se scaXz-Si?egrUNUCLcy m avanghtand d \n"
     ]
    }
   ],
   "source": [
    "import torch.nn as nn\n",
    "import torch.nn.functional as F\n",
    "import math\n",
    "from torch.optim import AdamW\n",
    "\n",
    "class BigramLM(nn.Module):\n",
    "    def __init__(self, vocab_size):\n",
    "        super().__init__()\n",
    "        self.embedding = nn.Embedding(vocab_size, vocab_size)\n",
    "\n",
    "    def forward(self, xb, yb=None):\n",
    "        logits = self.embedding(xb)\n",
    "\n",
    "        if yb is None:\n",
    "            loss = None\n",
    "        else:\n",
    "            B,T,C = logits.shape\n",
    "            loss = F.cross_entropy(logits.view(B*T, C), yb.view(B*T))\n",
    "        return logits, loss\n",
    "    \n",
    "    def generate(self, xb, max_new_tokens):\n",
    "        for _ in range(max_new_tokens):\n",
    "            logits, _ = self(xb)\n",
    "            logits = logits[:, -1, :]  # B,T,C -> B, C\n",
    "            probs = F.softmax(logits, dim=-1)\n",
    "            new_inds = torch.multinomial(probs, num_samples=1)  # B\n",
    "            xb = torch.cat((xb, new_inds), dim=-1)  # B,T -> B,T+1\n",
    "        return xb\n",
    "    \n",
    "bigram = BigramLM(VOCAB_SIZE)\n",
    "logits, loss = bigram(xb, yb)\n",
    "print(logits.shape, loss)\n",
    "print(math.log(65))\n",
    "\n",
    "new_x = torch.zeros((2, 1), dtype=torch.long)\n",
    "print([decode(r) for r in bigram.generate(new_x, 10).tolist()])\n",
    "\n",
    "# Train.\n",
    "optim = AdamW(bigram.parameters(), lr=1e-3)\n",
    "\n",
    "BATCH_SIZE = 32\n",
    "\n",
    "for i in range(5_000):\n",
    "    xb, yb = get_batch(train_data)\n",
    "    _, loss = bigram(xb, yb)\n",
    "\n",
    "    optim.zero_grad()\n",
    "    loss.backward()\n",
    "    optim.step()\n",
    "\n",
    "print(loss.item())\n",
    "\n",
    "new_x = torch.zeros((1, 1), dtype=torch.long)\n",
    "print(decode(bigram.generate(new_x, 100).tolist()[0]))"
   ]
  },
  {
   "cell_type": "markdown",
   "metadata": {},
   "source": [
    "# Math behind self-attention"
   ]
  },
  {
   "cell_type": "code",
   "execution_count": 6,
   "metadata": {},
   "outputs": [
    {
     "name": "stdout",
     "output_type": "stream",
     "text": [
      "torch.Size([4, 8, 2])\n",
      "tensor([[ 0.1808, -0.0700],\n",
      "        [-0.3596, -0.9152],\n",
      "        [ 0.6258,  0.0255],\n",
      "        [ 0.9545,  0.0643],\n",
      "        [ 0.3612,  1.1679],\n",
      "        [-1.3499, -0.5102],\n",
      "        [ 0.2360, -0.2398],\n",
      "        [-0.9211,  1.5433]])\n",
      "tensor([[ 0.1808, -0.0700],\n",
      "        [-0.0894, -0.4926],\n",
      "        [ 0.1490, -0.3199],\n",
      "        [ 0.3504, -0.2238],\n",
      "        [ 0.3525,  0.0545],\n",
      "        [ 0.0688, -0.0396],\n",
      "        [ 0.0927, -0.0682],\n",
      "        [-0.0341,  0.1332]])\n"
     ]
    }
   ],
   "source": [
    "torch.manual_seed(1337)\n",
    "\n",
    "B,T,C = 4,8,2\n",
    "x = torch.randn(B,T,C)\n",
    "print(x.shape)\n",
    "\n",
    "xbow = torch.zeros((B,T,C))\n",
    "for b in range(B):\n",
    "    for t in range(T):\n",
    "        xbow[b,t] = torch.mean(x[b, :t+1], dim=0)\n",
    "\n",
    "print(x[0])\n",
    "print(xbow[0])"
   ]
  },
  {
   "cell_type": "code",
   "execution_count": 7,
   "metadata": {},
   "outputs": [
    {
     "name": "stdout",
     "output_type": "stream",
     "text": [
      "tensor([[1.0000, 0.0000, 0.0000, 0.0000, 0.0000, 0.0000, 0.0000, 0.0000],\n",
      "        [0.5000, 0.5000, 0.0000, 0.0000, 0.0000, 0.0000, 0.0000, 0.0000],\n",
      "        [0.3333, 0.3333, 0.3333, 0.0000, 0.0000, 0.0000, 0.0000, 0.0000],\n",
      "        [0.2500, 0.2500, 0.2500, 0.2500, 0.0000, 0.0000, 0.0000, 0.0000],\n",
      "        [0.2000, 0.2000, 0.2000, 0.2000, 0.2000, 0.0000, 0.0000, 0.0000],\n",
      "        [0.1667, 0.1667, 0.1667, 0.1667, 0.1667, 0.1667, 0.0000, 0.0000],\n",
      "        [0.1429, 0.1429, 0.1429, 0.1429, 0.1429, 0.1429, 0.1429, 0.0000],\n",
      "        [0.1250, 0.1250, 0.1250, 0.1250, 0.1250, 0.1250, 0.1250, 0.1250]])\n",
      "tensor(3.2363e-08)\n",
      "tensor([[ 0.1808, -0.0700],\n",
      "        [-0.0894, -0.4926],\n",
      "        [ 0.1490, -0.3199],\n",
      "        [ 0.3504, -0.2238],\n",
      "        [ 0.3525,  0.0545],\n",
      "        [ 0.0688, -0.0396],\n",
      "        [ 0.0927, -0.0682],\n",
      "        [-0.0341,  0.1332]])\n"
     ]
    }
   ],
   "source": [
    "wei = torch.tril(torch.ones(T,T))\n",
    "wei = wei / wei.sum(dim=-1, keepdim=True)\n",
    "print(wei)\n",
    "\n",
    "xbow2 = wei @ x  # T,T @ B,T,C -> B, T, C\n",
    "print((xbow-xbow2).abs().max())\n",
    "\n",
    "print(xbow2[0])"
   ]
  },
  {
   "cell_type": "code",
   "execution_count": 8,
   "metadata": {},
   "outputs": [
    {
     "name": "stdout",
     "output_type": "stream",
     "text": [
      "tensor([[1.0000, 0.0000, 0.0000, 0.0000, 0.0000, 0.0000, 0.0000, 0.0000],\n",
      "        [0.5000, 0.5000, 0.0000, 0.0000, 0.0000, 0.0000, 0.0000, 0.0000],\n",
      "        [0.3333, 0.3333, 0.3333, 0.0000, 0.0000, 0.0000, 0.0000, 0.0000],\n",
      "        [0.2500, 0.2500, 0.2500, 0.2500, 0.0000, 0.0000, 0.0000, 0.0000],\n",
      "        [0.2000, 0.2000, 0.2000, 0.2000, 0.2000, 0.0000, 0.0000, 0.0000],\n",
      "        [0.1667, 0.1667, 0.1667, 0.1667, 0.1667, 0.1667, 0.0000, 0.0000],\n",
      "        [0.1429, 0.1429, 0.1429, 0.1429, 0.1429, 0.1429, 0.1429, 0.0000],\n",
      "        [0.1250, 0.1250, 0.1250, 0.1250, 0.1250, 0.1250, 0.1250, 0.1250]])\n"
     ]
    },
    {
     "data": {
      "text/plain": [
       "(tensor(3.2363e-08), True)"
      ]
     },
     "execution_count": 8,
     "metadata": {},
     "output_type": "execute_result"
    }
   ],
   "source": [
    "tril = torch.tril(torch.ones(T, T))\n",
    "wei = torch.zeros((T, T))\n",
    "wei.masked_fill_(tril == 0, float(\"-inf\"))\n",
    "wei = F.softmax(wei, dim=-1)\n",
    "print(wei)\n",
    "xbow3 = wei @ x\n",
    "(xbow3 - xbow).abs().max(), torch.allclose(xbow2, xbow3)"
   ]
  },
  {
   "cell_type": "code",
   "execution_count": 9,
   "metadata": {},
   "outputs": [
    {
     "name": "stdout",
     "output_type": "stream",
     "text": [
      "torch.Size([4, 8, 8])\n",
      "tensor([[1.0000, 0.0000, 0.0000, 0.0000, 0.0000, 0.0000, 0.0000, 0.0000],\n",
      "        [0.1574, 0.8426, 0.0000, 0.0000, 0.0000, 0.0000, 0.0000, 0.0000],\n",
      "        [0.2088, 0.1646, 0.6266, 0.0000, 0.0000, 0.0000, 0.0000, 0.0000],\n",
      "        [0.5792, 0.1187, 0.1889, 0.1131, 0.0000, 0.0000, 0.0000, 0.0000],\n",
      "        [0.0294, 0.1052, 0.0469, 0.0276, 0.7909, 0.0000, 0.0000, 0.0000],\n",
      "        [0.0176, 0.2689, 0.0215, 0.0089, 0.6812, 0.0019, 0.0000, 0.0000],\n",
      "        [0.1691, 0.4066, 0.0438, 0.0416, 0.1048, 0.2012, 0.0329, 0.0000],\n",
      "        [0.0210, 0.0843, 0.0555, 0.2297, 0.0573, 0.0709, 0.2423, 0.2391]],\n",
      "       grad_fn=<SelectBackward0>)\n"
     ]
    },
    {
     "data": {
      "text/plain": [
       "torch.Size([4, 8, 16])"
      ]
     },
     "execution_count": 9,
     "metadata": {},
     "output_type": "execute_result"
    }
   ],
   "source": [
    "torch.manual_seed(1337)\n",
    "\n",
    "B,T,C = 4, 8, 32\n",
    "x = torch.randn(B,T,C)\n",
    "\n",
    "head_size = 16\n",
    "key = nn.Linear(C, head_size, bias=False)\n",
    "query = nn.Linear(C, head_size, bias=False)\n",
    "value = nn.Linear(C, head_size, bias=False)\n",
    "\n",
    "q = query(x)  # (B,T,C) -> (B,T,head_size)\n",
    "k = key(x)  # (B,T,C) -> (B,T,head_size)\n",
    "v = value(x)  # (B,T,C) -> (B,T,head_size)\n",
    "\n",
    "wei = q @ k.transpose(-1, -2)  # (B,T,head_size) @ (B,head_size,T) -> (B,T,T)\n",
    "print(wei.shape)\n",
    "\n",
    "tril = torch.triu(torch.ones(T,T, dtype=torch.bool), diagonal=1)\n",
    "wei.masked_fill_(tril, float(\"-inf\"))\n",
    "wei = F.softmax(wei, dim=-1)\n",
    "print(wei[0])\n",
    "\n",
    "out = wei @ v  # (B,T,T) @ (B,T,head_size) -> (B, T, head_size)\n",
    "out.shape"
   ]
  },
  {
   "cell_type": "code",
   "execution_count": 10,
   "metadata": {},
   "outputs": [
    {
     "name": "stdout",
     "output_type": "stream",
     "text": [
      "tensor([[ 0,  1,  2,  3,  4],\n",
      "        [ 5,  6,  7,  8,  9],\n",
      "        [10, 11, 12, 13, 14]])\n",
      "tensor([[ 0,  5, 10],\n",
      "        [ 1,  6, 11],\n",
      "        [ 2,  7, 12],\n",
      "        [ 3,  8, 13],\n",
      "        [ 4,  9, 14]])\n",
      "tensor([[ 0,  1,  2],\n",
      "        [ 3,  4,  5],\n",
      "        [ 6,  7,  8],\n",
      "        [ 9, 10, 11],\n",
      "        [12, 13, 14]])\n"
     ]
    }
   ],
   "source": [
    "a = torch.arange(15).reshape(3, 5)\n",
    "print(a)\n",
    "\n",
    "print(a.transpose(-2, -1))\n",
    "\n",
    "T,C = a.shape\n",
    "print(a.view(C,T))\n"
   ]
  },
  {
   "cell_type": "code",
   "execution_count": 11,
   "metadata": {},
   "outputs": [
    {
     "name": "stdout",
     "output_type": "stream",
     "text": [
      "tensor(16.1599)\n",
      "tensor(1.0100)\n"
     ]
    }
   ],
   "source": [
    "q = torch.randn(B,T,head_size)\n",
    "k = torch.randn(B,T,head_size)\n",
    "\n",
    "wei = q @ k.transpose(-2, -1)\n",
    "print(wei.var())\n",
    "\n",
    "wei *= head_size ** -0.5\n",
    "print(wei.var())"
   ]
  },
  {
   "cell_type": "markdown",
   "metadata": {},
   "source": [
    "# BatchNorm vs LayerNorm"
   ]
  },
  {
   "cell_type": "code",
   "execution_count": 12,
   "metadata": {},
   "outputs": [
    {
     "name": "stdout",
     "output_type": "stream",
     "text": [
      "tensor(3.7253e-08) tensor(1.0000)\n",
      "tensor(0.0459) tensor(1.0197)\n",
      "tensor(0.0222) tensor(0.9228)\n",
      "tensor(-4.7684e-09) tensor(1.0000)\n"
     ]
    }
   ],
   "source": [
    "class BatchNorm:\n",
    "    def __init__(self, dim, momentum=0.1, eps=1e-5):\n",
    "        self.momentum = momentum\n",
    "        self.eps = eps\n",
    "        self.training = True\n",
    "\n",
    "        # Params.\n",
    "        self.scale = torch.ones(dim)\n",
    "        self.bias = torch.zeros(dim)\n",
    "\n",
    "        # Buffers.\n",
    "        self.running_mean = torch.zeros((1, dim))\n",
    "        self.running_std = torch.ones((1, dim))\n",
    "\n",
    "    def __call__(self, xb):\n",
    "        if self.training:\n",
    "            # Normalize each batch to have mean and variance for every feature.\n",
    "            mean = xb.mean(0, keepdim=True)\n",
    "            std = xb.std(0, keepdim=True)\n",
    "            \n",
    "            # Update running stats.\n",
    "            with torch.no_grad():\n",
    "                self.running_mean = ((1.0-self.momentum) * self.running_mean) + (self.momentum * mean)\n",
    "                self.running_std = ((1.0-self.momentum) * self.running_std) + (self.momentum * std)\n",
    "        else:\n",
    "            mean = self.running_mean\n",
    "            std = self.running_std\n",
    "\n",
    "        normed = (xb - mean) / (std + self.eps)\n",
    "        self.out = (self.scale * normed) + self.bias\n",
    "        return self.out\n",
    "    \n",
    "    def parameters(self):\n",
    "        return [self.scale, self.bias]\n",
    "    \n",
    "class LayerNorm:\n",
    "    def __init__(self, dim, eps=1e-5):\n",
    "        self.eps = eps\n",
    "        self.scale = torch.ones(dim)\n",
    "        self.bias = torch.zeros(dim)\n",
    "\n",
    "    def __call__(self, xb):\n",
    "        # Normalize each sample individually to have mean and variance. \n",
    "        mean = xb.mean(1, keepdim=True)\n",
    "        std = xb.std(1, keepdim=True)\n",
    "        normed = (xb - mean) / (std + self.eps)\n",
    "        self.out = (self.scale * normed) + self.bias\n",
    "        return self.out\n",
    "    \n",
    "    def parameters(self):\n",
    "        return [self.scale, self.bias]\n",
    "    \n",
    "x = torch.randn(32, 100)\n",
    "bn = BatchNorm(100)\n",
    "x_bn = bn(x)\n",
    "print(x_bn[:, 0].mean(), x_bn[:, 0].std())\n",
    "print(x_bn[0,:].mean(), x_bn[0,:].std())\n",
    "\n",
    "ln = LayerNorm(100)\n",
    "x_ln = ln(x)\n",
    "print(x_ln[:, 0].mean(), x_ln[:, 0].std())\n",
    "print(x_ln[0,:].mean(), x_ln[0,:].std())"
   ]
  },
  {
   "cell_type": "markdown",
   "metadata": {},
   "source": [
    "Transformer paper: https://arxiv.org/pdf/1706.03762"
   ]
  },
  {
   "cell_type": "markdown",
   "metadata": {},
   "source": [
    "TODO:\n",
    "* BPE tokenization\n",
    "* GPT-2 repro\n",
    "* encoder-decoder models (GPT is decoder only)"
   ]
  },
  {
   "cell_type": "markdown",
   "metadata": {},
   "source": [
    "# Efficient Multi-Headed Attention"
   ]
  },
  {
   "cell_type": "code",
   "execution_count": 13,
   "metadata": {},
   "outputs": [
    {
     "name": "stdout",
     "output_type": "stream",
     "text": [
      "torch.Size([2, 4, 12])\n",
      "torch.Size([2, 4, 18])\n",
      "torch.Size([2, 4, 6]) torch.Size([2, 4, 6]) torch.Size([2, 4, 6])\n"
     ]
    }
   ],
   "source": [
    "# KQV in 1 step.\n",
    "torch.manual_seed(42)\n",
    "\n",
    "B,T,C = 2, 4, 12\n",
    "x = torch.randint(0, 10, (B,T,C)).float()\n",
    "print(x.shape)\n",
    "\n",
    "HEAD_SIZE = 6\n",
    "\n",
    "qkv_linear = nn.Linear(C, HEAD_SIZE * 3, bias=False)\n",
    "qkv = qkv_linear(x)\n",
    "print(qkv.shape)\n",
    "\n",
    "q, k, v = qkv.tensor_split(3, dim=-1)\n",
    "print(q.shape, k.shape, v.shape)"
   ]
  },
  {
   "cell_type": "code",
   "execution_count": 14,
   "metadata": {},
   "outputs": [
    {
     "name": "stdout",
     "output_type": "stream",
     "text": [
      "Original\n",
      "torch.Size([1, 4, 12])\n",
      "tensor([[[5., 0., 8., 5., 8., 8., 6., 1., 5., 8., 1., 9.],\n",
      "         [1., 1., 0., 2., 9., 1., 6., 0., 9., 6., 5., 3.],\n",
      "         [0., 8., 5., 3., 4., 9., 8., 3., 4., 2., 4., 1.],\n",
      "         [3., 2., 9., 8., 6., 3., 9., 4., 7., 1., 6., 4.]]])\n",
      "\n",
      "Batched\n",
      "tensor([[[[5., 0., 8., 5., 8., 8.],\n",
      "          [1., 1., 0., 2., 9., 1.],\n",
      "          [0., 8., 5., 3., 4., 9.],\n",
      "          [3., 2., 9., 8., 6., 3.]],\n",
      "\n",
      "         [[6., 1., 5., 8., 1., 9.],\n",
      "          [6., 0., 9., 6., 5., 3.],\n",
      "          [8., 3., 4., 2., 4., 1.],\n",
      "          [9., 4., 7., 1., 6., 4.]]]])\n",
      "torch.Size([1, 2, 4, 6])\n",
      "\n",
      "Unbatched\n",
      "tensor([[[5., 0., 8., 5., 8., 8., 6., 1., 5., 8., 1., 9.],\n",
      "         [1., 1., 0., 2., 9., 1., 6., 0., 9., 6., 5., 3.],\n",
      "         [0., 8., 5., 3., 4., 9., 8., 3., 4., 2., 4., 1.],\n",
      "         [3., 2., 9., 8., 6., 3., 9., 4., 7., 1., 6., 4.]]])\n",
      "torch.Size([1, 4, 12])\n"
     ]
    }
   ],
   "source": [
    "# Batching no concat.\n",
    "B,T,C = 1, 4, 12\n",
    "x = torch.randint(0, 10, (B,T,C)).float()\n",
    "print(\"Original\")\n",
    "print(x.shape)\n",
    "print(x)\n",
    "\n",
    "# We want (B,T,C) -> (B,n_heads,T,head_size)\n",
    "N_HEADS = 2\n",
    "HEAD_SIZE = 6\n",
    "\n",
    "x = x.view(B, T, N_HEADS, HEAD_SIZE).transpose(1, 2)\n",
    "print(\"\\nBatched\")\n",
    "print(x)\n",
    "print(x.shape)\n",
    "\n",
    "x = x.transpose(2, 1).contiguous().view(B,T,C)\n",
    "print(\"\\nUnbatched\")\n",
    "print(x)\n",
    "print(x.shape)"
   ]
  },
  {
   "cell_type": "code",
   "execution_count": 15,
   "metadata": {},
   "outputs": [
    {
     "name": "stdout",
     "output_type": "stream",
     "text": [
      "torch.Size([2, 4, 24])\n",
      "torch.Size([2, 4, 24])\n"
     ]
    }
   ],
   "source": [
    "class MultiHeadAttention(nn.Module):\n",
    "    def __init__(self, embed_dim, n_heads):\n",
    "        super().__init__()\n",
    "        self.n_heads = n_heads\n",
    "        assert embed_dim % n_heads == 0, f\"{embed_dim=} must be a multiple of {n_heads=}\"\n",
    "        self.head_size = embed_dim // n_heads\n",
    "        self.qkv_linear = nn.Linear(self.head_size, self.head_size*3, bias=False)\n",
    "        self.register_buffer(\n",
    "            \"tril\", torch.triu(torch.ones(BLOCK_SIZE, BLOCK_SIZE, dtype=torch.bool), diagonal=1)\n",
    "        )\n",
    "\n",
    "    def forward(self, x):\n",
    "        B,T,C = x.shape\n",
    "        # Batch heads: (B,T,C) -> (B,n_heads,T,head_size).\n",
    "        x = x.view(B, T, self.n_heads, self.head_size).transpose(1, 2)\n",
    "\n",
    "        qkv = self.qkv_linear(x)\n",
    "        # Split QKV: (B,nh,T,hs*3) -> 3*(B,nh,T,hs).\n",
    "        q, k, v = qkv.tensor_split(3, dim=-1)\n",
    "\n",
    "        wei = q @ k.transpose(-1, -2)\n",
    "        wei.masked_fill_(self.tril[:T,:T], float(\"-inf\"))\n",
    "        wei = F.softmax(wei / (self.head_size**0.5), dim=-1)\n",
    "\n",
    "        out = wei @ v\n",
    "        # Unbatch heads: (B,nh,T,hs) -> (B,T,C).\n",
    "        out = out.transpose(1,2).contiguous().view(B,T,C)\n",
    "        return out\n",
    "    \n",
    "B,T,C = 2, 4, 24\n",
    "x = torch.randn(B,T,C).float()\n",
    "print(x.shape)\n",
    "\n",
    "mha = MultiHeadAttention(embed_dim=C, n_heads=8)\n",
    "print(mha(x).shape)"
   ]
  }
 ],
 "metadata": {
  "kernelspec": {
   "display_name": "karpathy-tutorial-p8SQ0mzG-py3.10",
   "language": "python",
   "name": "python3"
  },
  "language_info": {
   "codemirror_mode": {
    "name": "ipython",
    "version": 3
   },
   "file_extension": ".py",
   "mimetype": "text/x-python",
   "name": "python",
   "nbconvert_exporter": "python",
   "pygments_lexer": "ipython3",
   "version": "3.10.12"
  }
 },
 "nbformat": 4,
 "nbformat_minor": 2
}
