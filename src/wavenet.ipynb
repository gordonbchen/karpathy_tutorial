{
 "cells": [
  {
   "cell_type": "markdown",
   "metadata": {},
   "source": [
    "* [Andrej Karpathy: Building makemore Part 5: Building a WaveNet](https://www.youtube.com/watch?v=t3YJ5hKiMQ0&list=PLAqhIrjkxbuWI23v9cThsA9GvCAUhRvKZ&index=7&ab_channel=AndrejKarpathy)"
   ]
  },
  {
   "cell_type": "code",
   "execution_count": 1,
   "metadata": {},
   "outputs": [
    {
     "name": "stdout",
     "output_type": "stream",
     "text": [
      "['emma', 'olivia', 'ava', 'isabella', 'sophia', 'charlotte', 'mia', 'amelia']\n",
      "VOCAB_SIZE=27\n",
      "{'.': 0, 'a': 1, 'b': 2, 'c': 3, 'd': 4, 'e': 5, 'f': 6, 'g': 7, 'h': 8, 'i': 9, 'j': 10, 'k': 11, 'l': 12, 'm': 13, 'n': 14, 'o': 15, 'p': 16, 'q': 17, 'r': 18, 's': 19, 't': 20, 'u': 21, 'v': 22, 'w': 23, 'x': 24, 'y': 25, 'z': 26}\n"
     ]
    }
   ],
   "source": [
    "with open(\"../data/names.txt\", \"r\") as f:\n",
    "    words = f.read().splitlines()\n",
    "print(words[:8])\n",
    "\n",
    "chars = [\".\"] + sorted(list(set(\"\".join(words))))\n",
    "VOCAB_SIZE = len(chars)\n",
    "print(f\"{VOCAB_SIZE=}\")\n",
    "\n",
    "ctoi = {c:i for i,c in enumerate(chars)}\n",
    "print(ctoi)\n",
    "itoc = {i:c for c,i in ctoi.items()}"
   ]
  },
  {
   "cell_type": "code",
   "execution_count": 2,
   "metadata": {},
   "outputs": [
    {
     "name": "stdout",
     "output_type": "stream",
     "text": [
      "torch.Size([182625, 8]) torch.Size([182625])\n",
      "torch.Size([22655, 8]) torch.Size([22655])\n",
      "torch.Size([22866, 8]) torch.Size([22866])\n",
      "........ -> y\n",
      ".......y -> u\n",
      "......yu -> h\n",
      ".....yuh -> e\n",
      "....yuhe -> n\n",
      "...yuhen -> g\n",
      "..yuheng -> .\n",
      "........ -> d\n",
      ".......d -> i\n",
      "......di -> o\n",
      ".....dio -> n\n",
      "....dion -> d\n",
      "...diond -> r\n",
      "..diondr -> e\n",
      ".diondre -> .\n",
      "........ -> x\n",
      ".......x -> a\n",
      "......xa -> v\n",
      ".....xav -> i\n",
      "....xavi -> e\n"
     ]
    }
   ],
   "source": [
    "import torch\n",
    "import random\n",
    "\n",
    "BLOCK_SIZE = 8\n",
    "def build_dataset(words):\n",
    "    X, Y = [], []\n",
    "    for w in words:\n",
    "        context = [ctoi[\".\"]] * BLOCK_SIZE\n",
    "        for c in w + \".\":\n",
    "            X.append(context)\n",
    "            idx = ctoi[c]\n",
    "            Y.append(idx)\n",
    "            # print(f\"{''.join([itoc[i] for i in context])} -> {c}\")\n",
    "            context = context[1:] + [idx]\n",
    "\n",
    "\n",
    "    X = torch.tensor(X, dtype=torch.long)\n",
    "    Y = torch.tensor(Y, dtype=torch.long)\n",
    "    print(X.shape, Y.shape)\n",
    "    return X, Y\n",
    "\n",
    "# Splits: train (0.8), val/dev (0.1), test (0.1).\n",
    "random.seed(42)\n",
    "random.shuffle(words)\n",
    "\n",
    "n1 = int(0.8 * len(words))\n",
    "n2 = int(0.9 * len(words))\n",
    "\n",
    "X_train, Y_train = build_dataset(words[:n1])\n",
    "X_val, Y_val = build_dataset(words[n1:n2])\n",
    "X_test, Y_test = build_dataset(words[n2:])\n",
    "\n",
    "# Show some examples.\n",
    "for x, y in zip(X_train[:20], Y_train[:20]):\n",
    "    print(f\"{''.join(itoc[idx.item()] for idx in x)} -> {itoc[y.item()]}\")"
   ]
  },
  {
   "cell_type": "code",
   "execution_count": 3,
   "metadata": {},
   "outputs": [],
   "source": [
    "torch.manual_seed(42);"
   ]
  },
  {
   "cell_type": "code",
   "execution_count": 4,
   "metadata": {},
   "outputs": [],
   "source": [
    "class Linear:\n",
    "    def __init__(self, fan_in, fan_out, bias=True):\n",
    "        self.weight = torch.randn((fan_in, fan_out)) / (fan_in ** 0.5)\n",
    "        self.bias = torch.zeros(fan_out) if bias else None\n",
    "\n",
    "    def __call__(self, xb):\n",
    "        self.out = xb @ self.weight\n",
    "        if self.bias is not None:\n",
    "            self.out += self.bias\n",
    "        return self.out\n",
    "    \n",
    "    def parameters(self):\n",
    "        return [self.weight] + ([] if self.bias is None else [self.bias])\n",
    "    \n",
    "class BatchNorm1d:\n",
    "    def __init__(self, dim, momentum=0.1, eps=1e-5):\n",
    "        self.momentum = momentum\n",
    "        self.eps = eps\n",
    "        self.training = True\n",
    "\n",
    "        # Params.\n",
    "        self.scale = torch.ones(dim)\n",
    "        self.bias = torch.zeros(dim)\n",
    "\n",
    "        # Buffers.\n",
    "        self.running_mean = torch.zeros((1, dim))\n",
    "        self.running_std = torch.ones((1, dim))\n",
    "\n",
    "    def __call__(self, xb):\n",
    "        if self.training:\n",
    "            if xb.ndim == 2:\n",
    "                dims = 0\n",
    "            elif xb.ndim == 3:\n",
    "                dims = (0, 1)\n",
    "\n",
    "            mean = xb.mean(dims, keepdim=True)\n",
    "            std = xb.std(dims, keepdim=True)\n",
    "            \n",
    "            # Update running stats.\n",
    "            with torch.no_grad():\n",
    "                self.running_mean = ((1.0-self.momentum) * self.running_mean) + (self.momentum * mean)\n",
    "                self.running_std = ((1.0-self.momentum) * self.running_std) + (self.momentum * std)\n",
    "        else:\n",
    "            mean = self.running_mean\n",
    "            std = self.running_std\n",
    "\n",
    "        normed = (xb - mean) / (std + self.eps)\n",
    "        self.out = (self.scale * normed) + self.bias\n",
    "        return self.out\n",
    "    \n",
    "    def parameters(self):\n",
    "        return [self.scale, self.bias]\n",
    "    \n",
    "class Tanh:\n",
    "    def __call__(self, xb):\n",
    "        self.out = xb.tanh()\n",
    "        return self.out\n",
    "    \n",
    "    def parameters(self):\n",
    "        return []\n",
    "    \n",
    "class Embedding:\n",
    "    def __init__(self, n_embeddings, embedding_dim):\n",
    "        self.weight = torch.randn((n_embeddings, embedding_dim))\n",
    "\n",
    "    def __call__(self, xb):\n",
    "        self.out = self.weight[xb]\n",
    "        return self.out\n",
    "\n",
    "    def parameters(self):\n",
    "        return [self.weight]\n",
    "    \n",
    "class FlattenConsec:\n",
    "    def __init__(self, n_consec):\n",
    "        self.n_consec = n_consec\n",
    "\n",
    "    def __call__(self, xb):\n",
    "        B, T, C = xb.shape\n",
    "        x = xb.view(B, T // self.n_consec, C * self.n_consec)\n",
    "        if x.shape[1] == 1:\n",
    "            x = x.squeeze(1)\n",
    "\n",
    "        self.out = x\n",
    "        return self.out\n",
    "    \n",
    "    def parameters(self):\n",
    "        return []\n",
    "    \n",
    "class Sequential:\n",
    "    def __init__(self, layers):\n",
    "        self.layers = layers\n",
    "\n",
    "    def __call__(self, xb):\n",
    "        z = xb\n",
    "        for layer in self.layers:\n",
    "            z = layer(z)\n",
    "        self.out = z\n",
    "        return self.out\n",
    "    \n",
    "    def parameters(self):\n",
    "        return [p for layer in self.layers for p in layer.parameters()]"
   ]
  },
  {
   "cell_type": "code",
   "execution_count": 5,
   "metadata": {},
   "outputs": [
    {
     "name": "stdout",
     "output_type": "stream",
     "text": [
      "n_params=76579\n",
      "expected_init_loss=tensor(3.2958)\n"
     ]
    }
   ],
   "source": [
    "EMBED_DIM = 24\n",
    "HIDDEN_DIM = 128\n",
    "\n",
    "model = Sequential([\n",
    "    Embedding(VOCAB_SIZE, EMBED_DIM),\n",
    "    FlattenConsec(2), Linear(EMBED_DIM * 2, HIDDEN_DIM, bias=False), BatchNorm1d(HIDDEN_DIM), Tanh(),\n",
    "    FlattenConsec(2), Linear(HIDDEN_DIM * 2, HIDDEN_DIM, bias=False), BatchNorm1d(HIDDEN_DIM), Tanh(),\n",
    "    FlattenConsec(2), Linear(HIDDEN_DIM * 2, HIDDEN_DIM, bias=False), BatchNorm1d(HIDDEN_DIM), Tanh(),\n",
    "    Linear(HIDDEN_DIM, VOCAB_SIZE, bias=True),\n",
    "])\n",
    "\n",
    "with torch.no_grad():\n",
    "    model.layers[-1].weight *= 0.1\n",
    "\n",
    "for p in model.parameters():\n",
    "    p.requires_grad = True\n",
    "\n",
    "n_params = sum(p.numel() for p in model.parameters())\n",
    "print(f\"{n_params=}\")\n",
    "\n",
    "expected_init_loss = -torch.tensor(1.0 / VOCAB_SIZE).log()\n",
    "print(f\"{expected_init_loss=}\")"
   ]
  },
  {
   "cell_type": "code",
   "execution_count": 6,
   "metadata": {},
   "outputs": [
    {
     "name": "stdout",
     "output_type": "stream",
     "text": [
      "0 loss=3.31672\n",
      "10000 loss=2.05763\n",
      "20000 loss=2.07235\n",
      "30000 loss=2.51336\n",
      "40000 loss=2.14757\n",
      "50000 loss=1.78361\n",
      "60000 loss=2.25919\n",
      "70000 loss=1.93310\n",
      "80000 loss=1.68755\n",
      "90000 loss=2.03939\n",
      "100000 loss=1.77353\n",
      "110000 loss=1.95715\n",
      "120000 loss=1.74633\n",
      "130000 loss=1.81223\n",
      "140000 loss=1.74084\n",
      "150000 loss=1.74655\n",
      "160000 loss=1.88088\n",
      "170000 loss=1.62636\n",
      "180000 loss=1.64746\n",
      "190000 loss=1.85535\n",
      "199999 loss=1.89191\n"
     ]
    }
   ],
   "source": [
    "import torch.nn.functional as F\n",
    "import matplotlib.pyplot as plt\n",
    "\n",
    "TRAIN_STEPS = 200_000\n",
    "BATCH_SIZE = 32\n",
    "\n",
    "log_losses = []\n",
    "for i in range(TRAIN_STEPS):\n",
    "    # Create minibatch.\n",
    "    inds = torch.randint(0, X_train.shape[0], (BATCH_SIZE,))\n",
    "    xb, yb = X_train[inds], Y_train[inds]\n",
    "\n",
    "    # Forward.\n",
    "    logits = model(xb)\n",
    "    loss = F.cross_entropy(logits, yb)\n",
    "\n",
    "    # Backward.\n",
    "    for p in model.parameters():\n",
    "        p.grad = None\n",
    "    loss.backward()\n",
    "\n",
    "    # Optim.\n",
    "    lr = 0.1 if i < 150_000 else 0.01\n",
    "    for p in model.parameters():\n",
    "        p.data -= lr * p.grad\n",
    "\n",
    "    # Track stats.\n",
    "    if (i % 10_000 == 0) or (i == TRAIN_STEPS - 1):\n",
    "        print(f\"{i} loss={loss.item():.5f}\")\n",
    "    log_losses.append(loss.log10().item())"
   ]
  },
  {
   "cell_type": "code",
   "execution_count": 7,
   "metadata": {},
   "outputs": [
    {
     "data": {
      "image/png": "[encoded data removed]",
      "text/plain": [
       "<Figure size 640x480 with 1 Axes>"
      ]
     },
     "metadata": {},
     "output_type": "display_data"
    }
   ],
   "source": [
    "avg_log_losses = torch.tensor(log_losses).view(-1, 1_000).mean(-1)\n",
    "plt.plot(avg_log_losses);"
   ]
  },
  {
   "cell_type": "code",
   "execution_count": 8,
   "metadata": {},
   "outputs": [
    {
     "name": "stdout",
     "output_type": "stream",
     "text": [
      "Train loss: 1.7692300081253052\n",
      "Val loss: 1.9953476190567017\n"
     ]
    }
   ],
   "source": [
    "@torch.no_grad()\n",
    "def eval_loss(X, Y):\n",
    "    logits = model(X)\n",
    "    loss = F.cross_entropy(logits, Y)\n",
    "    return loss.item()\n",
    "\n",
    "for layer in model.layers:\n",
    "    layer.training = False\n",
    "\n",
    "print(f\"Train loss: {eval_loss(X_train, Y_train)}\")\n",
    "print(f\"Val loss: {eval_loss(X_val, Y_val)}\")"
   ]
  },
  {
   "cell_type": "code",
   "execution_count": 9,
   "metadata": {},
   "outputs": [
    {
     "name": "stdout",
     "output_type": "stream",
     "text": [
      "aiyanah.\n",
      "giusopf.\n",
      "lorron.\n",
      "roger.\n",
      "nivitha.\n",
      "christell.\n",
      "jedmccee.\n",
      "kelipson.\n",
      "briyah.\n",
      "sylvan.\n",
      "denichumsuj.\n",
      "sedine.\n",
      "kamontae.\n",
      "aidan.\n",
      "edderio.\n",
      "magdaliie.\n",
      "manaswi.\n",
      "yeslee.\n",
      "stephania.\n",
      "kharson.\n"
     ]
    }
   ],
   "source": [
    "@torch.no_grad()\n",
    "def generate():\n",
    "    new_word = []\n",
    "    context = [ctoi[\".\"]] * BLOCK_SIZE\n",
    "\n",
    "    while True:\n",
    "        logits = model(torch.tensor([context]))\n",
    "        probs = F.softmax(logits, dim=-1)\n",
    "        idx = torch.multinomial(probs, num_samples=1).item()\n",
    "        \n",
    "        new_word.append(itoc[idx])\n",
    "        context = context[1:] + [idx]\n",
    "\n",
    "        if idx == 0:\n",
    "            break\n",
    "\n",
    "    return \"\".join(new_word)\n",
    "\n",
    "for i in range(20):\n",
    "    print(generate())"
   ]
  },
  {
   "cell_type": "markdown",
   "metadata": {},
   "source": [
    "[Wavenet paper](https://arxiv.org/pdf/1609.03499)"
   ]
  }
 ],
 "metadata": {
  "kernelspec": {
   "display_name": "karpathy-tutorial-p8SQ0mzG-py3.10",
   "language": "python",
   "name": "python3"
  },
  "language_info": {
   "codemirror_mode": {
    "name": "ipython",
    "version": 3
   },
   "file_extension": ".py",
   "mimetype": "text/x-python",
   "name": "python",
   "nbconvert_exporter": "python",
   "pygments_lexer": "ipython3",
   "version": "3.10.12"
  }
 },
 "nbformat": 4,
 "nbformat_minor": 2
}
